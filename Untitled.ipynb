{
 "cells": [
  {
   "cell_type": "code",
   "execution_count": 1,
   "metadata": {},
   "outputs": [],
   "source": [
    "from action_queue import ActionQueue\n",
    "from vision.System import VisionAdaptor\n"
   ]
  },
  {
   "cell_type": "code",
   "execution_count": 2,
   "metadata": {},
   "outputs": [
    {
     "name": "stdout",
     "output_type": "stream",
     "text": [
      "[[224, 449], [0, 800]]\n",
      "[[475, 445], [325, 800]]\n",
      "[[240, 77], [0, 0]]\n",
      "[[454, 75], [325, 0]]\n",
      "Created MaskGenerator object for green colour.\n",
      "\t Parameters : {'H_max': 101, 'Dilate': 0, 'Erode': 0, 'S_min': 195, 'H_min': 51, 'V_max': 211, 'S_max': 255, 'gamma': 2.0000000000000004, 'open:1 / close:0': 1, 'blur': 10, 'V_min': 0}\n",
      "Created MaskGenerator object for red colour.\n",
      "\t Parameters : {'H_max': 169, 'Dilate': 0, 'Erode': 0, 'S_min': 182, 'H_min': 39, 'V_max': 212, 'S_max': 255, 'gamma': -0.10000000000000026, 'open:1 / close:0': 0, 'blur': 10, 'V_min': 33}\n",
      "Created MaskGenerator object for blue colour.\n",
      "\t Parameters : {'H_max': 128, 'Dilate': 10, 'Erode': 4, 'S_min': 176, 'H_min': 90, 'V_max': 255, 'S_max': 255, 'gamma': 1.0999999999999999, 'open:1 / close:0': 1, 'blur': 10, 'V_min': 114}\n",
      "Created MaskGenerator object for purple colour.\n",
      "\t Parameters : {'H_max': 179, 'Dilate': 10, 'Erode': 10, 'S_min': 255, 'H_min': 179, 'V_max': 255, 'S_max': 255, 'gamma': 1.0999999999999999, 'open:1 / close:0': 1, 'blur': 10, 'V_min': 255}\n",
      "Created MaskGenerator object for yellow colour.\n",
      "\t Parameters : {'H_max': 48, 'Dilate': 9, 'Erode': 0, 'S_min': 162, 'H_min': 13, 'V_max': 255, 'S_max': 255, 'gamma': 4.699999999999999, 'open:1 / close:0': 1, 'blur': 10, 'V_min': 123}\n"
     ]
    }
   ],
   "source": [
    "va = VisionAdaptor(ActionQueue())"
   ]
  },
  {
   "cell_type": "code",
   "execution_count": 3,
   "metadata": {},
   "outputs": [],
   "source": [
    "import cv2\n",
    "image = va.getFrame()\n",
    "cv2.imshow('frame',image)\n",
    "cv2.waitKey(0)\n",
    "cv2.destroyAllWindows()"
   ]
  },
  {
   "cell_type": "code",
   "execution_count": 5,
   "metadata": {},
   "outputs": [
    {
     "name": "stdout",
     "output_type": "stream",
     "text": [
      "[{'rotation': -0.0, 'length': 112.0, 'width': 104.0, 'centroid': (96.0, 546.0), 'colour': 'green'}, {'rotation': -1.9091525077819824, 'length': 118.80069732666016, 'width': 104.57526397705078, 'centroid': (245.20977783203125, 540.7930297851562), 'colour': 'green'}]\n",
      "OriginalValues : from : [245.20978 540.793  ]\t to [2.5 3.5]\n",
      "OriginalValues : from : [ 96. 546.]\t to [7.5 3.5]\n",
      "{0: [[(998.3585430155704, 558.7844213704361), (-129.8462617130777, -98.88574197172635)], [(1012.320173954346, 151.95502127940728), (-129.8909504357981, -85.23589056270133)]]}\n",
      "Creating pickup Routine for Layer: 0\n",
      "Heading to package at : (998.3585430155704, 558.7844213704361)\n",
      "Package Recovered!\n",
      "Package Delivered!\n",
      "Heading to package at : (1012.320173954346, 151.95502127940728)\n",
      "Package Recovered!\n",
      "Package Delivered!\n"
     ]
    },
    {
     "data": {
      "text/plain": [
       "array([[[ 67,  52,  46],\n",
       "        [ 63,  49,  45],\n",
       "        [ 57,  44,  42],\n",
       "        ...,\n",
       "        [137, 137, 141],\n",
       "        [138, 140, 144],\n",
       "        [139, 143, 146]],\n",
       "\n",
       "       [[ 62,  49,  44],\n",
       "        [ 56,  44,  41],\n",
       "        [ 51,  40,  38],\n",
       "        ...,\n",
       "        [138, 138, 143],\n",
       "        [138, 141, 145],\n",
       "        [139, 143, 146]],\n",
       "\n",
       "       [[ 56,  46,  43],\n",
       "        [ 49,  40,  38],\n",
       "        [ 43,  36,  35],\n",
       "        ...,\n",
       "        [139, 140, 145],\n",
       "        [138, 142, 146],\n",
       "        [138, 143, 147]],\n",
       "\n",
       "       ...,\n",
       "\n",
       "       [[146, 144, 145],\n",
       "        [147, 145, 145],\n",
       "        [153, 151, 151],\n",
       "        ...,\n",
       "        [148, 148, 149],\n",
       "        [149, 149, 150],\n",
       "        [151, 151, 151]],\n",
       "\n",
       "       [[146, 146, 146],\n",
       "        [149, 149, 149],\n",
       "        [154, 153, 154],\n",
       "        ...,\n",
       "        [149, 149, 151],\n",
       "        [150, 150, 151],\n",
       "        [151, 151, 152]],\n",
       "\n",
       "       [[145, 145, 145],\n",
       "        [149, 149, 149],\n",
       "        [154, 154, 154],\n",
       "        ...,\n",
       "        [151, 150, 152],\n",
       "        [151, 150, 152],\n",
       "        [151, 151, 153]]], dtype=uint8)"
      ]
     },
     "execution_count": 5,
     "metadata": {},
     "output_type": "execute_result"
    }
   ],
   "source": [
    "va.execute()"
   ]
  },
  {
   "cell_type": "code",
   "execution_count": null,
   "metadata": {},
   "outputs": [],
   "source": []
  }
 ],
 "metadata": {
  "kernelspec": {
   "display_name": "Python 3",
   "language": "python",
   "name": "python3"
  },
  "language_info": {
   "codemirror_mode": {
    "name": "ipython",
    "version": 3
   },
   "file_extension": ".py",
   "mimetype": "text/x-python",
   "name": "python",
   "nbconvert_exporter": "python",
   "pygments_lexer": "ipython3",
   "version": "3.4.2"
  }
 },
 "nbformat": 4,
 "nbformat_minor": 2
}
